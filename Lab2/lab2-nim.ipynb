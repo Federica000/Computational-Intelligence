{
 "cells": [
  {
   "cell_type": "markdown",
   "metadata": {
    "pycharm": {
     "name": "#%% md\n"
    }
   },
   "source": [
    "Copyright **`(c)`** 2022 Giovanni Squillero `<squillero@polito.it>`  \n",
    "[`https://github.com/squillero/computational-intelligence`](https://github.com/squillero/computational-intelligence)  \n",
    "Free for personal or classroom use; see [`LICENSE.md`](https://github.com/squillero/computational-intelligence/blob/master/LICENSE.md) for details.  \n"
   ]
  },
  {
   "cell_type": "markdown",
   "metadata": {
    "pycharm": {
     "name": "#%%\n"
    }
   },
   "source": [
    "# Lab 3: ES\n",
    "\n",
    "## Task\n",
    "\n",
    "Write agents able to play [*Nim*](https://en.wikipedia.org/wiki/Nim), with an arbitrary number of rows and an upper bound $k$ on the number of objects that can be removed in a turn (a.k.a., *subtraction game*).\n",
    "\n",
    "The goal of the game is to **avoid** taking the last object.\n",
    "\n",
    "* Task2.1: An agent using fixed rules based on *nim-sum* (i.e., an *expert system*)\n",
    "* Task2.2: An agent using evolved rules using ES\n",
    "\n",
    "## Instructions\n",
    "\n",
    "* Create the directory `lab2` inside the course repo \n",
    "* Put a `README.md` and your solution (all the files, code and auxiliary data if needed)\n",
    "\n",
    "## Notes\n",
    "\n",
    "* Working in group is not only allowed, but recommended (see: [Ubuntu](https://en.wikipedia.org/wiki/Ubuntu_philosophy) and [Cooperative Learning](https://files.eric.ed.gov/fulltext/EJ1096789.pdf)). Collaborations must be explicitly declared in the `README.md`.\n",
    "* [Yanking](https://www.emacswiki.org/emacs/KillingAndYanking) from the internet is allowed, but sources must be explicitly declared in the `README.md`.\n",
    "\n"
   ]
  },
  {
   "cell_type": "code",
   "execution_count": 155,
   "metadata": {},
   "outputs": [],
   "source": [
    "import logging\n",
    "from pprint import pprint, pformat\n",
    "from collections import namedtuple\n",
    "import random\n",
    "from copy import deepcopy\n",
    "import numpy as np\n"
   ]
  },
  {
   "cell_type": "markdown",
   "metadata": {},
   "source": [
    "## The *Nim* and *Nimply* classes"
   ]
  },
  {
   "cell_type": "code",
   "execution_count": 156,
   "metadata": {},
   "outputs": [],
   "source": [
    "Nimply = namedtuple(\"Nimply\", \"row, num_objects\")\n"
   ]
  },
  {
   "cell_type": "code",
   "execution_count": 157,
   "metadata": {},
   "outputs": [],
   "source": [
    "class Nim:\n",
    "    def __init__(self, num_rows: int, k: int = None) -> None:\n",
    "        self._rows = [i * 2 + 1 for i in range(num_rows)]\n",
    "        self._k = k\n",
    "\n",
    "    def __bool__(self): #checks if there are objects in any row\n",
    "        return sum(self._rows) > 0\n",
    "\n",
    "    def __str__(self): #string for current state\n",
    "        return \"<\" + \" \".join(str(_) for _ in self._rows) + \">\"\n",
    "\n",
    "    @property \n",
    "    def rows(self) -> tuple: #returns a tuple with the current number of objects in each row\n",
    "        return tuple(self._rows)\n",
    "\n",
    "    #is used to make a move in the game by specifying a row and the number of objects to remove\n",
    "    def nimming(self, ply: Nimply) -> None:\n",
    "        row, num_objects = ply\n",
    "        assert self._rows[row] >= num_objects\n",
    "        assert self._k is None or num_objects <= self._k\n",
    "        self._rows[row] -= num_objects\n"
   ]
  },
  {
   "cell_type": "markdown",
   "metadata": {},
   "source": [
    "## Sample (and silly) startegies "
   ]
  },
  {
   "cell_type": "code",
   "execution_count": 158,
   "metadata": {},
   "outputs": [],
   "source": [
    "#random move\n",
    "\n",
    "def pure_random(state: Nim) -> Nimply:\n",
    "    \"\"\"A completely random move\"\"\"\n",
    "    row = random.choice([r for r, c in enumerate(state.rows) if c > 0])\n",
    "    num_objects = random.randint(1, state.rows[row])\n",
    "    return Nimply(row, num_objects)\n"
   ]
  },
  {
   "cell_type": "code",
   "execution_count": 159,
   "metadata": {},
   "outputs": [],
   "source": [
    "\n",
    "#maximum possible in the lowest row\n",
    "\n",
    "def gabriele(state: Nim) -> Nimply:\n",
    "    \"\"\"Pick always the maximum possible number of the lowest row\"\"\"\n",
    "    possible_moves = [(r, o) for r, c in enumerate(state.rows) for o in range(1, c + 1)]\n",
    "    return Nimply(*max(possible_moves, key=lambda m: (-m[0], m[1])))\n"
   ]
  },
  {
   "cell_type": "code",
   "execution_count": 160,
   "metadata": {},
   "outputs": [],
   "source": [
    "def adaptive(state: Nim) -> Nimply:\n",
    "    \"\"\"A strategy that can adapt its parameters\"\"\"\n",
    "    genome = {\"love_small\": 0.5}\n",
    "    \n",
    "   # Extract the \"love_small\" parameter from the genome\n",
    "    love_small_param = genome[\"love_small\"]\n",
    "    \n",
    "   \n",
    "    # Calculate some values ​​based on the current state of the game\n",
    "    # Count the number of active rows, i.e. the number of rows still containing objects.\n",
    "    active_rows_number = sum(o > 0 for o in state.rows)\n",
    "    \n",
    "    # Find the shortest row, i.e. the one with the fewest objects.\n",
    "    # The lambda function is used as the key to determine the MINIMUM based on the number of objects.\n",
    "    shortest_row = min((x for x in enumerate(state.rows) if x[1] > 0), key=lambda y: y[1])[0]\n",
    "    \n",
    "    # Find the longest line, i.e. the one with the most objects.\n",
    "    # The lambda function is used as the key to determine the MAXIMUM based on the number of objects.\n",
    "    longest_row = max((x for x in enumerate(state.rows)), key=lambda y: y[1])[0]\n",
    "    \n",
    "    #Make a decision based on the \"love_small\" parameter\n",
    "    if love_small_param > 0.5:\n",
    "        #If \"love_small\" is greater than 0.5, choose the smallest move on the shortest row\n",
    "        ply = Nimply(shortest_row, 1) \n",
    "    else:\n",
    "        # Otherwise, choose the largest move on the longest row\n",
    "        ply = Nimply(longest_row, state.rows[longest_row])\n",
    "    \n",
    "    return ply\n",
    "\n",
    "#Instead of explicitly computing these values, the strategy randomly selects a non-empty row\n",
    "# and make a move based on the chosen row.\n",
    "# This simplifies the strategy while still incorporating the adaptive parameter.\n",
    "\n",
    "def adaptive_alternativa(state: Nim) -> Nimply:\n",
    "    genome = {\"love_small\": 0.5}\n",
    "    \n",
    "    # Extract the \"love_small\" parameter from the genome\n",
    "    love_small_param = genome[\"love_small\"]\n",
    "    \n",
    "    \n",
    "    # Calculate some values ​​based on the current state of the game        \n",
    "    active_rows = [i for i, oggetti in enumerate(state.rows) if oggetti > 0]\n",
    "    \n",
    "    \n",
    "    # Make a decision based on the parameter and state of the game  \n",
    "    if love_small_param > 0.5:\n",
    "        # Choose the smallest move on a non-empty row at random\n",
    "        fila_scelta = random.choice(active_rows)\n",
    "        ply = Nimply(fila_scelta, 1)\n",
    "    else:\n",
    "        # Choose the largest move on a non-empty row at random\n",
    "        fila_scelta = random.choice(active_rows)\n",
    "        ply = Nimply(fila_scelta, state.rows[fila_scelta])\n",
    "    \n",
    "    return ply\n",
    "\n",
    "def adaptive_dynamic(state: Nim) -> Nimply:\n",
    "    genome = {\"love_small\": 0.5}\n",
    "    \n",
    "    # Extract the \"love_small\" parameter from the genome\n",
    "    love_small_param = genome[\"love_small\"]\n",
    "    \n",
    "    \n",
    "    # Calculate some values ​​based on the current state of the game\n",
    "    active_rows = [i for i, objects in enumerate(state.rows) if objects > 0]\n",
    "    \n",
    "    # Make adaptive parameters more dynamic based on the percentage of empty lines compared to the total lines of the game.\n",
    "    #so that it is proportional to the amount of space available in the game.\n",
    "    # Essentially, if there are more empty lines, love_small_param will be affected more, and vice versa.\n",
    "    love_small_param *= state.rows.count(0) / len(state.rows)\n",
    "    \n",
    "    \n",
    "    # Make a decision based on the parameter and state of the game\n",
    "    if love_small_param > 0.5:\n",
    "        # Choose the smallest move on a non-empty row at random\n",
    "        choice_row = random.choice(active_rows)\n",
    "        ply = Nimply(choice_row, 1)\n",
    "    else:\n",
    "        # Choose the largest move on a non-empty row at random\n",
    "        choice_row = random.choice(active_rows)\n",
    "        ply = Nimply(choice_row, state.rows[choice_row])\n",
    "    \n",
    "    return ply\n",
    "\n",
    "\n",
    "\n"
   ]
  },
  {
   "cell_type": "markdown",
   "metadata": {},
   "source": [
    "Copyright **`(c)`** 2022 Giovanni Squillero `<squillero@polito.it>`  \n",
    "[`https://github.com/squillero/computational-intelligence`](https://github.com/squillero/computational-intelligence)  \n",
    "Free for personal or classroom use; see [`LICENSE.md`](https://github.com/squillero/computational-intelligence/blob/master/LICENSE.md) for details.  \n"
   ]
  },
  {
   "cell_type": "markdown",
   "metadata": {},
   "source": [
    "# Lab 3: ES\n",
    "\n",
    "## Task\n",
    "\n",
    "Write agents able to play [*Nim*](https://en.wikipedia.org/wiki/Nim), with an arbitrary number of rows and an upper bound $k$ on the number of objects that can be removed in a turn (a.k.a., *subtraction game*).\n",
    "\n",
    "The goal of the game is to **avoid** taking the last object.\n",
    "\n",
    "* Task2.1: An agent using fixed rules based on *nim-sum* (i.e., an *expert system*)\n",
    "* Task2.2: An agent using evolved rules using ES\n",
    "\n",
    "## Instructions\n",
    "\n",
    "* Create the directory `lab2` inside the course repo \n",
    "* Put a `README.md` and your solution (all the files, code and auxiliary data if needed)\n",
    "\n",
    "## Notes\n",
    "\n",
    "* Working in group is not only allowed, but recommended (see: [Ubuntu](https://en.wikipedia.org/wiki/Ubuntu_philosophy) and [Cooperative Learning](https://files.eric.ed.gov/fulltext/EJ1096789.pdf)). Collaborations must be explicitly declared in the `README.md`.\n",
    "* [Yanking](https://www.emacswiki.org/emacs/KillingAndYanking) from the internet is allowed, but sources must be explicitly declared in the `README.md`.\n",
    "\n"
   ]
  },
  {
   "cell_type": "code",
   "execution_count": null,
   "metadata": {},
   "outputs": [],
   "source": [
    "import logging\n",
    "from pprint import pprint, pformat\n",
    "from collections import namedtuple\n",
    "import random\n",
    "from copy import deepcopy\n",
    "import numpy as np\n"
   ]
  },
  {
   "cell_type": "markdown",
   "metadata": {},
   "source": [
    "## The *Nim* and *Nimply* classes"
   ]
  },
  {
   "cell_type": "code",
   "execution_count": null,
   "metadata": {},
   "outputs": [],
   "source": [
    "Nimply = namedtuple(\"Nimply\", \"row, num_objects\")\n"
   ]
  },
  {
   "cell_type": "code",
   "execution_count": null,
   "metadata": {},
   "outputs": [],
   "source": [
    "class Nim:\n",
    "    def __init__(self, num_rows: int, k: int = None) -> None:\n",
    "        self._rows = [i * 2 + 1 for i in range(num_rows)]\n",
    "        self._k = k\n",
    "\n",
    "    def __bool__(self): #checks if there are objects in any row\n",
    "        return sum(self._rows) > 0\n",
    "\n",
    "    def __str__(self): #string for current state\n",
    "        return \"<\" + \" \".join(str(_) for _ in self._rows) + \">\"\n",
    "\n",
    "    @property \n",
    "    def rows(self) -> tuple: #returns a tuple with the current number of objects in each row\n",
    "        return tuple(self._rows)\n",
    "\n",
    "    #is used to make a move in the game by specifying a row and the number of objects to remove\n",
    "    def nimming(self, ply: Nimply) -> None:\n",
    "        row, num_objects = ply\n",
    "        assert self._rows[row] >= num_objects\n",
    "        assert self._k is None or num_objects <= self._k\n",
    "        self._rows[row] -= num_objects\n"
   ]
  },
  {
   "cell_type": "markdown",
   "metadata": {},
   "source": [
    "## Sample (and silly) startegies "
   ]
  },
  {
   "cell_type": "code",
   "execution_count": null,
   "metadata": {},
   "outputs": [],
   "source": [
    "#random move\n",
    "\n",
    "def pure_random(state: Nim) -> Nimply:\n",
    "    \"\"\"A completely random move\"\"\"\n",
    "    row = random.choice([r for r, c in enumerate(state.rows) if c > 0])\n",
    "    num_objects = random.randint(1, state.rows[row])\n",
    "    return Nimply(row, num_objects)\n"
   ]
  },
  {
   "cell_type": "code",
   "execution_count": null,
   "metadata": {},
   "outputs": [],
   "source": [
    "\n",
    "#maximum possible in the lowest row\n",
    "\n",
    "def gabriele(state: Nim) -> Nimply:\n",
    "    \"\"\"Pick always the maximum possible number of the lowest row\"\"\"\n",
    "    possible_moves = [(r, o) for r, c in enumerate(state.rows) for o in range(1, c + 1)]\n",
    "    return Nimply(*max(possible_moves, key=lambda m: (-m[0], m[1])))\n"
   ]
  },
  {
   "cell_type": "code",
   "execution_count": null,
   "metadata": {},
   "outputs": [],
   "source": [
    "def adaptive(state: Nim) -> Nimply:\n",
    "    \"\"\"A strategy that can adapt its parameters\"\"\"\n",
    "    genome = {\"love_small\": 0.5}\n",
    "    \n",
    "   # Extract the \"love_small\" parameter from the genome\n",
    "    love_small_param = genome[\"love_small\"]\n",
    "    \n",
    "   \n",
    "    # Calculate some values ​​based on the current state of the game\n",
    "    # Count the number of active rows, i.e. the number of rows still containing objects.\n",
    "    active_rows_number = sum(o > 0 for o in state.rows)\n",
    "    \n",
    "    # Find the shortest row, i.e. the one with the fewest objects.\n",
    "    # The lambda function is used as the key to determine the MINIMUM based on the number of objects.\n",
    "    shortest_row = min((x for x in enumerate(state.rows) if x[1] > 0), key=lambda y: y[1])[0]\n",
    "    \n",
    "    # Find the longest line, i.e. the one with the most objects.\n",
    "    # The lambda function is used as the key to determine the MAXIMUM based on the number of objects.\n",
    "    longest_row = max((x for x in enumerate(state.rows)), key=lambda y: y[1])[0]\n",
    "    \n",
    "    #Make a decision based on the \"love_small\" parameter\n",
    "    if love_small_param > 0.5:\n",
    "        #If \"love_small\" is greater than 0.5, choose the smallest move on the shortest row\n",
    "        ply = Nimply(active_rows_number, 1) \n",
    "    else:\n",
    "        # Otherwise, choose the largest move on the longest row\n",
    "        ply = Nimply(longest_row, state.rows[longest_row])\n",
    "    \n",
    "    return ply\n",
    "\n",
    "#Instead of explicitly computing these values, the strategy randomly selects a non-empty row\n",
    "# and make a move based on the chosen row.\n",
    "# This simplifies the strategy while still incorporating the adaptive parameter.\n",
    "\n",
    "def adaptive_alternativa(state: Nim) -> Nimply:\n",
    "    genome = {\"love_small\": 0.5}\n",
    "    \n",
    "    # Estrai il parametro \"love_small\" dal genoma\n",
    "    love_small_param = genome[\"love_small\"]\n",
    "    \n",
    "    # Calcola alcuni valori basati sullo stato attuale del gioco\n",
    "    active_rows = [i for i, oggetti in enumerate(state.rows) if oggetti > 0]\n",
    "    \n",
    "    # Prendi una decisione basata sul parametro e lo stato del gioco\n",
    "    if love_small_param > 0.5:\n",
    "        # Scegli la mossa più piccola su una fila non vuota a caso\n",
    "        fila_scelta = random.choice(active_rows)\n",
    "        ply = Nimply(fila_scelta, 1)\n",
    "    else:\n",
    "        # Scegli la mossa più grande su una fila non vuota a caso\n",
    "        fila_scelta = random.choice(active_rows)\n",
    "        ply = Nimply(fila_scelta, state.rows[fila_scelta])\n",
    "    \n",
    "    return ply\n",
    "\n",
    "def adaptive_dynamic(state: Nim) -> Nimply:\n",
    "    genome = {\"love_small\": 0.5}\n",
    "    \n",
    "    # Estrai il parametro \"love_small\" dal genoma\n",
    "    love_small_param = genome[\"love_small\"]\n",
    "    \n",
    "    # Calcola alcuni valori basati sullo stato attuale del gioco\n",
    "    active_rows = [i for i, oggetti in enumerate(state.rows) if oggetti > 0]\n",
    "    \n",
    "    # Rendi i parametri adattivi più dinamici  in base alla percentuale di righe vuote rispetto al totale delle righe del gioco.\n",
    "    #n modo che sia proporzionale alla quantità di spazio disponibile nel gioco. \n",
    "    # In sostanza, se ci sono più righe vuote, love_small_param sarà influenzato di più, e viceversa.\n",
    "    love_small_param *= state.rows.count(0) / len(state.rows)\n",
    "    \n",
    "    # Prendi una decisione basata sul parametro e lo stato del gioco\n",
    "    if love_small_param > 0.5:\n",
    "        # Choose the smallest move on a non-empty row at random\n",
    "        fila_scelta = random.choice(active_rows)\n",
    "        ply = Nimply(fila_scelta, 1)\n",
    "    else:\n",
    "        # Choose the largest move on a non-empty row at random\n",
    "        fila_scelta = random.choice(active_rows)\n",
    "        ply = Nimply(fila_scelta, state.rows[fila_scelta])\n",
    "    \n",
    "    return ply\n",
    "\n",
    "\n",
    "\n"
   ]
  },
  {
   "cell_type": "code",
   "execution_count": null,
   "metadata": {},
   "outputs": [],
   "source": [
    "import numpy as np\n",
    "\n",
    "\n",
    "def nim_sum(state: Nim) -> int:\n",
    "    tmp = np.array([tuple(int(x) for x in f\"{c:032b}\") for c in state.rows])\n",
    "    xor = tmp.sum(axis=0) % 2\n",
    "    return int(\"\".join(str(_) for _ in xor), base=2)\n",
    "\n",
    "#analyzes the current state and returns the possible mods and the final result sum after each move\n",
    "def analize(raw: Nim) -> dict:\n",
    "    cooked = dict()\n",
    "    cooked[\"possible_moves\"] = dict()\n",
    "    for ply in (Nimply(r, o) for r, c in enumerate(raw.rows) for o in range(1, c + 1)):\n",
    "        tmp = deepcopy(raw)\n",
    "        tmp.nimming(ply)\n",
    "        cooked[\"possible_moves\"][ply] = nim_sum(tmp)\n",
    "    return cooked\n",
    "\n",
    "\n",
    "#search for the best moves based on the possible moves\n",
    "def optimal(state: Nim) -> Nimply:\n",
    "    analysis = analize(state)\n",
    "    logging.debug(f\"analysis:\\n{pformat(analysis)}\")\n",
    "    spicy_moves = [ply for ply, ns in analysis[\"possible_moves\"].items() if ns != 0]\n",
    "    if not spicy_moves:\n",
    "        spicy_moves = list(analysis[\"possible_moves\"].keys())\n",
    "    ply = random.choice(spicy_moves)\n",
    "    return ply\n"
   ]
  },
  {
   "cell_type": "markdown",
   "metadata": {},
   "source": [
    "## Oversimplified match"
   ]
  },
  {
   "cell_type": "code",
   "execution_count": null,
   "metadata": {},
   "outputs": [
    {
     "name": "stderr",
     "output_type": "stream",
     "text": [
      "INFO:root:init : <1 3 5 7 9 11 13>\n",
      "INFO:root:ply: player 0 plays Nimply(row=3, num_objects=7)\n",
      "INFO:root:status: <1 3 5 0 9 11 13>\n",
      "INFO:root:ply: player 1 plays Nimply(row=2, num_objects=1)\n",
      "INFO:root:status: <1 3 4 0 9 11 13>\n",
      "INFO:root:ply: player 0 plays Nimply(row=5, num_objects=11)\n",
      "INFO:root:status: <1 3 4 0 9 0 13>\n",
      "INFO:root:ply: player 1 plays Nimply(row=2, num_objects=2)\n",
      "INFO:root:status: <1 3 2 0 9 0 13>\n",
      "INFO:root:ply: player 0 plays Nimply(row=6, num_objects=13)\n",
      "INFO:root:status: <1 3 2 0 9 0 0>\n",
      "INFO:root:ply: player 1 plays Nimply(row=2, num_objects=1)\n",
      "INFO:root:status: <1 3 1 0 9 0 0>\n",
      "INFO:root:ply: player 0 plays Nimply(row=4, num_objects=9)\n",
      "INFO:root:status: <1 3 1 0 0 0 0>\n",
      "INFO:root:ply: player 1 plays Nimply(row=2, num_objects=1)\n",
      "INFO:root:status: <1 3 0 0 0 0 0>\n",
      "INFO:root:ply: player 0 plays Nimply(row=0, num_objects=1)\n",
      "INFO:root:status: <0 3 0 0 0 0 0>\n",
      "INFO:root:ply: player 1 plays Nimply(row=1, num_objects=1)\n",
      "INFO:root:status: <0 2 0 0 0 0 0>\n",
      "INFO:root:ply: player 0 plays Nimply(row=1, num_objects=2)\n",
      "INFO:root:status: <0 0 0 0 0 0 0>\n",
      "INFO:root:status: Player 1 won!\n"
     ]
    }
   ],
   "source": [
    "logging.getLogger().setLevel(logging.INFO)\n",
    "#switch between strategies based on those chosen by the players\n",
    "strategy = (adaptive_dynamic, pure_random)\n",
    "\n",
    "nim = Nim(7)\n",
    "logging.info(f\"init : {nim}\")\n",
    "player = 0\n",
    "while nim:\n",
    "    ply = strategy[player](nim)\n",
    "    logging.info(f\"ply: player {player} plays {ply}\")\n",
    "    nim.nimming(ply)\n",
    "    logging.info(f\"status: {nim}\")\n",
    "    player = 1 - player\n",
    "logging.info(f\"status: Player {player} won!\")\n"
   ]
  },
  {
   "cell_type": "code",
   "execution_count": 161,
   "metadata": {},
   "outputs": [],
   "source": [
    "import numpy as np\n",
    "\n",
    "\n",
    "def nim_sum(state: Nim) -> int:\n",
    "    tmp = np.array([tuple(int(x) for x in f\"{c:032b}\") for c in state.rows])\n",
    "    xor = tmp.sum(axis=0) % 2\n",
    "    return int(\"\".join(str(_) for _ in xor), base=2)\n",
    "\n",
    "#analyzes the current state and returns the possible mods and the final result sum after each move\n",
    "def analize(raw: Nim) -> dict:\n",
    "    cooked = dict()\n",
    "    cooked[\"possible_moves\"] = dict()\n",
    "    for ply in (Nimply(r, o) for r, c in enumerate(raw.rows) for o in range(1, c + 1)):\n",
    "        tmp = deepcopy(raw)\n",
    "        tmp.nimming(ply)\n",
    "        cooked[\"possible_moves\"][ply] = nim_sum(tmp)\n",
    "    return cooked\n",
    "\n",
    "\n",
    "#search for the best moves based on the possible moves\n",
    "def optimal(state: Nim) -> Nimply:\n",
    "    analysis = analize(state)\n",
    "    logging.debug(f\"analysis:\\n{pformat(analysis)}\")\n",
    "    spicy_moves = [ply for ply, ns in analysis[\"possible_moves\"].items() if ns != 0]\n",
    "    if not spicy_moves:\n",
    "        spicy_moves = list(analysis[\"possible_moves\"].keys())\n",
    "    ply = random.choice(spicy_moves)\n",
    "    return ply\n"
   ]
  },
  {
   "cell_type": "markdown",
   "metadata": {},
   "source": [
    "## Oversimplified match"
   ]
  },
  {
   "cell_type": "code",
   "execution_count": 162,
   "metadata": {},
   "outputs": [
    {
     "name": "stderr",
     "output_type": "stream",
     "text": [
      "INFO:root:init : <1 3 5 7 9 11 13>\n",
      "INFO:root:ply: player 0 plays Nimply(row=3, num_objects=7)\n",
      "INFO:root:status: <1 3 5 0 9 11 13>\n",
      "INFO:root:ply: player 1 plays Nimply(row=2, num_objects=1)\n",
      "INFO:root:status: <1 3 4 0 9 11 13>\n",
      "INFO:root:ply: player 0 plays Nimply(row=5, num_objects=11)\n",
      "INFO:root:status: <1 3 4 0 9 0 13>\n",
      "INFO:root:ply: player 1 plays Nimply(row=2, num_objects=2)\n",
      "INFO:root:status: <1 3 2 0 9 0 13>\n",
      "INFO:root:ply: player 0 plays Nimply(row=6, num_objects=13)\n",
      "INFO:root:status: <1 3 2 0 9 0 0>\n",
      "INFO:root:ply: player 1 plays Nimply(row=2, num_objects=1)\n",
      "INFO:root:status: <1 3 1 0 9 0 0>\n",
      "INFO:root:ply: player 0 plays Nimply(row=4, num_objects=9)\n",
      "INFO:root:status: <1 3 1 0 0 0 0>\n",
      "INFO:root:ply: player 1 plays Nimply(row=2, num_objects=1)\n",
      "INFO:root:status: <1 3 0 0 0 0 0>\n",
      "INFO:root:ply: player 0 plays Nimply(row=0, num_objects=1)\n",
      "INFO:root:status: <0 3 0 0 0 0 0>\n",
      "INFO:root:ply: player 1 plays Nimply(row=1, num_objects=1)\n",
      "INFO:root:status: <0 2 0 0 0 0 0>\n",
      "INFO:root:ply: player 0 plays Nimply(row=1, num_objects=2)\n",
      "INFO:root:status: <0 0 0 0 0 0 0>\n",
      "INFO:root:status: Player 1 won!\n"
     ]
    }
   ],
   "source": [
    "logging.getLogger().setLevel(logging.INFO)\n",
    "#switch between strategies based on those chosen by the players\n",
    "strategy = (adaptive_dynamic, pure_random)\n",
    "\n",
    "nim = Nim(7)\n",
    "logging.info(f\"init : {nim}\")\n",
    "player = 0\n",
    "while nim:\n",
    "    ply = strategy[player](nim)\n",
    "    logging.info(f\"ply: player {player} plays {ply}\")\n",
    "    nim.nimming(ply)\n",
    "    logging.info(f\"status: {nim}\")\n",
    "    player = 1 - player\n",
    "logging.info(f\"status: Player {player} won!\")\n"
   ]
  }
 ],
 "metadata": {
  "kernelspec": {
   "display_name": "Python 3.10.7 ('ci22-dPIXJ0_o-py3.10')",
   "language": "python",
   "name": "python3"
  },
  "language_info": {
   "codemirror_mode": {
    "name": "ipython",
    "version": 3
   },
   "file_extension": ".py",
   "mimetype": "text/x-python",
   "name": "python",
   "nbconvert_exporter": "python",
   "pygments_lexer": "ipython3",
   "version": "3.11.0"
  },
  "vscode": {
   "interpreter": {
    "hash": "10197e8e2f2aa67e2c349105091c77f4cd384fce4877865f002d9ec653f96bc0"
   }
  }
 },
 "nbformat": 4,
 "nbformat_minor": 2
}
