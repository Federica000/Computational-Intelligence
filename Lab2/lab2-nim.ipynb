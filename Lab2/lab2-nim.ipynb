{
 "cells": [
  {
   "cell_type": "markdown",
   "metadata": {
    "pycharm": {
     "name": "#%% md\n"
    }
   },
   "source": [
    "Copyright **`(c)`** 2022 Giovanni Squillero `<squillero@polito.it>`  \n",
    "[`https://github.com/squillero/computational-intelligence`](https://github.com/squillero/computational-intelligence)  \n",
    "Free for personal or classroom use; see [`LICENSE.md`](https://github.com/squillero/computational-intelligence/blob/master/LICENSE.md) for details.  \n"
   ]
  },
  {
   "cell_type": "markdown",
   "metadata": {
    "pycharm": {
     "name": "#%%\n"
    }
   },
   "source": [
    "# Lab 3: ES\n",
    "\n",
    "## Task\n",
    "\n",
    "Write agents able to play [*Nim*](https://en.wikipedia.org/wiki/Nim), with an arbitrary number of rows and an upper bound $k$ on the number of objects that can be removed in a turn (a.k.a., *subtraction game*).\n",
    "\n",
    "The goal of the game is to **avoid** taking the last object.\n",
    "\n",
    "* Task2.1: An agent using fixed rules based on *nim-sum* (i.e., an *expert system*)\n",
    "* Task2.2: An agent using evolved rules using ES\n",
    "\n",
    "## Instructions\n",
    "\n",
    "* Create the directory `lab2` inside the course repo \n",
    "* Put a `README.md` and your solution (all the files, code and auxiliary data if needed)\n",
    "\n",
    "## Notes\n",
    "\n",
    "* Working in group is not only allowed, but recommended (see: [Ubuntu](https://en.wikipedia.org/wiki/Ubuntu_philosophy) and [Cooperative Learning](https://files.eric.ed.gov/fulltext/EJ1096789.pdf)). Collaborations must be explicitly declared in the `README.md`.\n",
    "* [Yanking](https://www.emacswiki.org/emacs/KillingAndYanking) from the internet is allowed, but sources must be explicitly declared in the `README.md`.\n",
    "\n"
   ]
  },
  {
   "cell_type": "code",
   "execution_count": 147,
   "metadata": {},
   "outputs": [],
   "source": [
    "import logging\n",
    "from pprint import pprint, pformat\n",
    "from collections import namedtuple\n",
    "import random\n",
    "from copy import deepcopy\n",
    "import numpy as np\n"
   ]
  },
  {
   "cell_type": "markdown",
   "metadata": {},
   "source": [
    "## The *Nim* and *Nimply* classes"
   ]
  },
  {
   "cell_type": "code",
   "execution_count": 148,
   "metadata": {},
   "outputs": [],
   "source": [
    "Nimply = namedtuple(\"Nimply\", \"row, num_objects\")\n"
   ]
  },
  {
   "cell_type": "code",
   "execution_count": 149,
   "metadata": {},
   "outputs": [],
   "source": [
    "class Nim:\n",
    "    def __init__(self, num_rows: int, k: int = None) -> None:\n",
    "        self._rows = [i * 2 + 1 for i in range(num_rows)]\n",
    "        self._k = k\n",
    "\n",
    "    def __bool__(self): #verifica se ci sono oggetti in qualche riga\n",
    "        return sum(self._rows) > 0\n",
    "\n",
    "    def __str__(self): #stringa per stato attuale\n",
    "        return \"<\" + \" \".join(str(_) for _ in self._rows) + \">\"\n",
    "\n",
    "    @property \n",
    "    def rows(self) -> tuple: #restituisce una tupla con il numero corrente di oggwti in ogni riga\n",
    "        return tuple(self._rows)\n",
    "\n",
    "    #viene utilizzato per effettuare una mossa nel gioco specificando una riga e il numero di oggetti da rimuovere\n",
    "    def nimming(self, ply: Nimply) -> None:\n",
    "        row, num_objects = ply\n",
    "        assert self._rows[row] >= num_objects\n",
    "        assert self._k is None or num_objects <= self._k\n",
    "        self._rows[row] -= num_objects\n"
   ]
  },
  {
   "cell_type": "markdown",
   "metadata": {},
   "source": [
    "## Sample (and silly) startegies "
   ]
  },
  {
   "cell_type": "code",
   "execution_count": 150,
   "metadata": {},
   "outputs": [],
   "source": [
    "#mossa casuale\n",
    "\n",
    "def pure_random(state: Nim) -> Nimply:\n",
    "    \"\"\"A completely random move\"\"\"\n",
    "    row = random.choice([r for r, c in enumerate(state.rows) if c > 0])\n",
    "    num_objects = random.randint(1, state.rows[row])\n",
    "    return Nimply(row, num_objects)\n"
   ]
  },
  {
   "cell_type": "code",
   "execution_count": 151,
   "metadata": {},
   "outputs": [],
   "source": [
    "#massimo possibile nella rig più bassa\n",
    "\n",
    "def gabriele(state: Nim) -> Nimply:\n",
    "    \"\"\"Pick always the maximum possible number of the lowest row\"\"\"\n",
    "    possible_moves = [(r, o) for r, c in enumerate(state.rows) for o in range(1, c + 1)]\n",
    "    return Nimply(*max(possible_moves, key=lambda m: (-m[0], m[1])))\n"
   ]
  },
  {
   "cell_type": "code",
   "execution_count": 152,
   "metadata": {},
   "outputs": [],
   "source": [
    "def adaptive(state: Nim) -> Nimply:\n",
    "    \"\"\"A strategy that can adapt its parameters\"\"\"\n",
    "    genome = {\"love_small\": 0.5}\n",
    "    \n",
    "    # Estrai il parametro \"love_small\" dal genoma\n",
    "    love_small_param = genome[\"love_small\"]\n",
    "    \n",
    "    # Calcola alcuni valori basati sullo stato attuale del gioco \n",
    "    # Conta il numero di righe attive, cioè il numero di righe che contengono ancora oggetti. \n",
    "    active_rows_number = sum(o > 0 for o in state.rows)\n",
    "    # Trova la riga più corta, cioè quella con il minor numero di oggetti. \n",
    "    # La lambda function viene utilizzata come chiave per determinare il MINIMO in base al numero di oggetti.\n",
    "    shortest_row = min((x for x in enumerate(state.rows) if x[1] > 0), key=lambda y: y[1])[0]\n",
    "    # Trova la riga più lunga, cioè quella con il maggior numero di oggetti.\n",
    "    # La lambda function viene utilizzata come chiave per determinare il MASSIMO in base al numero di oggetti.\n",
    "    longest_row = max((x for x in enumerate(state.rows)), key=lambda y: y[1])[0]\n",
    "    \n",
    "    # Prendi una decisione basata sul parametro \"love_small\" \n",
    "    if love_small_param > 0.5:\n",
    "        # Se \"love_small\" è maggiore di 0.5, scegli la mossa più piccola sulla fila più corta\n",
    "        ply = Nimply(active_rows_number, 1) \n",
    "    else:\n",
    "        # Altrimenti, scegli la mossa più grande sulla fila più lunga\n",
    "        ply = Nimply(longest_row, state.rows[longest_row])\n",
    "    \n",
    "    return ply\n",
    "\n",
    "#nvece di calcolare esplicitamente questi valori, la strategia seleziona casualmente una fila non vuota\n",
    "# e effettua una mossa in base alla fila scelta. \n",
    "# Ciò semplifica la strategia pur incorporando ancora il parametro adattivo.\n",
    "\n",
    "def adaptive_alternativa(state: Nim) -> Nimply:\n",
    "    genome = {\"love_small\": 0.5}\n",
    "    \n",
    "    # Estrai il parametro \"love_small\" dal genoma\n",
    "    love_small_param = genome[\"love_small\"]\n",
    "    \n",
    "    # Calcola alcuni valori basati sullo stato attuale del gioco\n",
    "    active_rows = [i for i, oggetti in enumerate(state.rows) if oggetti > 0]\n",
    "    \n",
    "    # Prendi una decisione basata sul parametro e lo stato del gioco\n",
    "    if love_small_param > 0.5:\n",
    "        # Scegli la mossa più piccola su una fila non vuota a caso\n",
    "        fila_scelta = random.choice(active_rows)\n",
    "        ply = Nimply(fila_scelta, 1)\n",
    "    else:\n",
    "        # Scegli la mossa più grande su una fila non vuota a caso\n",
    "        fila_scelta = random.choice(active_rows)\n",
    "        ply = Nimply(fila_scelta, state.rows[fila_scelta])\n",
    "    \n",
    "    return ply\n",
    "\n",
    "def adaptive_dynamic(state: Nim) -> Nimply:\n",
    "    genome = {\"love_small\": 0.5}\n",
    "    \n",
    "    # Estrai il parametro \"love_small\" dal genoma\n",
    "    love_small_param = genome[\"love_small\"]\n",
    "    \n",
    "    # Calcola alcuni valori basati sullo stato attuale del gioco\n",
    "    active_rows = [i for i, oggetti in enumerate(state.rows) if oggetti > 0]\n",
    "    \n",
    "    # Rendi i parametri adattivi più dinamici  in base alla percentuale di righe vuote rispetto al totale delle righe del gioco.\n",
    "    #n modo che sia proporzionale alla quantità di spazio disponibile nel gioco. \n",
    "    # In sostanza, se ci sono più righe vuote, love_small_param sarà influenzato di più, e viceversa.\n",
    "    love_small_param *= state.rows.count(0) / len(state.rows)\n",
    "    \n",
    "    # Prendi una decisione basata sul parametro e lo stato del gioco\n",
    "    if love_small_param > 0.5:\n",
    "        # Scegli la mossa più piccola su una fila non vuota a caso\n",
    "        fila_scelta = random.choice(active_rows)\n",
    "        ply = Nimply(fila_scelta, 1)\n",
    "    else:\n",
    "        # Scegli la mossa più grande su una fila non vuota a caso\n",
    "        fila_scelta = random.choice(active_rows)\n",
    "        ply = Nimply(fila_scelta, state.rows[fila_scelta])\n",
    "    \n",
    "    return ply\n",
    "\n",
    "\n",
    "\n"
   ]
  },
  {
   "cell_type": "code",
   "execution_count": 153,
   "metadata": {},
   "outputs": [],
   "source": [
    "import numpy as np\n",
    "\n",
    "\n",
    "def nim_sum(state: Nim) -> int:\n",
    "    tmp = np.array([tuple(int(x) for x in f\"{c:032b}\") for c in state.rows])\n",
    "    xor = tmp.sum(axis=0) % 2\n",
    "    return int(\"\".join(str(_) for _ in xor), base=2)\n",
    "\n",
    "#analizza lo stato attuale e restituisce le possibili modde e il risultato finale somma dopo ogni mossa\n",
    "def analize(raw: Nim) -> dict:\n",
    "    cooked = dict()\n",
    "    cooked[\"possible_moves\"] = dict()\n",
    "    for ply in (Nimply(r, o) for r, c in enumerate(raw.rows) for o in range(1, c + 1)):\n",
    "        tmp = deepcopy(raw)\n",
    "        tmp.nimming(ply)\n",
    "        cooked[\"possible_moves\"][ply] = nim_sum(tmp)\n",
    "    return cooked\n",
    "\n",
    "#ricerca di mossa migliori in base alle molsse possibili\n",
    "def optimal(state: Nim) -> Nimply:\n",
    "    analysis = analize(state)\n",
    "    logging.debug(f\"analysis:\\n{pformat(analysis)}\")\n",
    "    spicy_moves = [ply for ply, ns in analysis[\"possible_moves\"].items() if ns != 0]\n",
    "    if not spicy_moves:\n",
    "        spicy_moves = list(analysis[\"possible_moves\"].keys())\n",
    "    ply = random.choice(spicy_moves)\n",
    "    return ply\n"
   ]
  },
  {
   "cell_type": "markdown",
   "metadata": {},
   "source": [
    "## Oversimplified match"
   ]
  },
  {
   "cell_type": "code",
   "execution_count": 154,
   "metadata": {},
   "outputs": [
    {
     "name": "stderr",
     "output_type": "stream",
     "text": [
      "INFO:root:init : <1 3 5 7 9 11 13>\n",
      "INFO:root:ply: player 0 plays Nimply(row=2, num_objects=5)\n",
      "INFO:root:status: <1 3 0 7 9 11 13>\n",
      "INFO:root:ply: player 1 plays Nimply(row=6, num_objects=13)\n",
      "INFO:root:status: <1 3 0 7 9 11 0>\n",
      "INFO:root:ply: player 0 plays Nimply(row=5, num_objects=11)\n",
      "INFO:root:status: <1 3 0 7 9 0 0>\n",
      "INFO:root:ply: player 1 plays Nimply(row=4, num_objects=9)\n",
      "INFO:root:status: <1 3 0 7 0 0 0>\n",
      "INFO:root:ply: player 0 plays Nimply(row=3, num_objects=7)\n",
      "INFO:root:status: <1 3 0 0 0 0 0>\n",
      "INFO:root:ply: player 1 plays Nimply(row=1, num_objects=3)\n",
      "INFO:root:status: <1 0 0 0 0 0 0>\n",
      "INFO:root:ply: player 0 plays Nimply(row=0, num_objects=1)\n",
      "INFO:root:status: <0 0 0 0 0 0 0>\n",
      "INFO:root:status: Player 1 won!\n"
     ]
    }
   ],
   "source": [
    "logging.getLogger().setLevel(logging.INFO)\n",
    "#sialterna tra le strategie in base a quelle scelte dai giocatori\n",
    "strategy = (adaptive_dynamic, pure_random)\n",
    "\n",
    "nim = Nim(7)\n",
    "logging.info(f\"init : {nim}\")\n",
    "player = 0\n",
    "while nim:\n",
    "    ply = strategy[player](nim)\n",
    "    logging.info(f\"ply: player {player} plays {ply}\")\n",
    "    nim.nimming(ply)\n",
    "    logging.info(f\"status: {nim}\")\n",
    "    player = 1 - player\n",
    "logging.info(f\"status: Player {player} won!\")\n"
   ]
  },
  {
   "cell_type": "code",
   "execution_count": null,
   "metadata": {},
   "outputs": [],
   "source": []
  },
  {
   "cell_type": "code",
   "execution_count": null,
   "metadata": {},
   "outputs": [],
   "source": []
  },
  {
   "cell_type": "code",
   "execution_count": null,
   "metadata": {},
   "outputs": [],
   "source": []
  }
 ],
 "metadata": {
  "kernelspec": {
   "display_name": "Python 3.10.7 ('ci22-dPIXJ0_o-py3.10')",
   "language": "python",
   "name": "python3"
  },
  "language_info": {
   "codemirror_mode": {
    "name": "ipython",
    "version": 3
   },
   "file_extension": ".py",
   "mimetype": "text/x-python",
   "name": "python",
   "nbconvert_exporter": "python",
   "pygments_lexer": "ipython3",
   "version": "3.11.6"
  },
  "vscode": {
   "interpreter": {
    "hash": "10197e8e2f2aa67e2c349105091c77f4cd384fce4877865f002d9ec653f96bc0"
   }
  }
 },
 "nbformat": 4,
 "nbformat_minor": 2
}
