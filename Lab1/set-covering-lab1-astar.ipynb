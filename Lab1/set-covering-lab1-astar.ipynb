{
 "cells": [
  {
   "cell_type": "code",
   "execution_count": 2,
   "metadata": {},
   "outputs": [],
   "source": [
    "from random import random\n",
    "from functools import reduce\n",
    "from collections import namedtuple\n",
    "from queue import PriorityQueue, SimpleQueue, LifoQueue\n",
    "import numpy as np\n",
    "import math"
   ]
  },
  {
   "cell_type": "markdown",
   "metadata": {},
   "source": [
    "SET COVERING\n",
    "\n",
    "We have a set to cover with some subsets, we cover the set when taking subsets that complete the set even if some tiles are taken multiple times."
   ]
  },
  {
   "cell_type": "code",
   "execution_count": 3,
   "metadata": {},
   "outputs": [],
   "source": [
    "PROBLEM_SIZE = 10\n",
    "NUM_SETS = 20\n",
    "SETS = tuple(\n",
    "    np.array([random() < 0.3 for _ in range(PROBLEM_SIZE)])\n",
    "    for _ in range(NUM_SETS)\n",
    ")\n",
    "State = namedtuple('State', ['taken', 'not_taken'])"
   ]
  },
  {
   "cell_type": "markdown",
   "metadata": {},
   "source": [
    "## A*"
   ]
  },
  {
   "cell_type": "markdown",
   "metadata": {},
   "source": [
    "\n",
    "I try to improve the Eucledian heuristic but Euclidean distance can be problematic as a heuristic in set problems because it may not satisfy the admissibility condition required for the A* algorithm. The heuristic in A* must be admissible, i.e. it can never overestimate the cost of reaching the destination. In the context of problem sets, Euclidean distance might violate this condition. It doesn't work.\n",
    "\n",
    "The best heuristics for now are based on larger sets and the missing sets...\n",
    "Moreover, every set is generated with a probability < 0.3, so we need not taken*0.3 (heuristic_3)"
   ]
  },
  {
   "cell_type": "code",
   "execution_count": 3,
   "metadata": {},
   "outputs": [],
   "source": [
    "def goal_check(state):\n",
    "    return np.all(reduce(\n",
    "        np.logical_or,\n",
    "        [SETS[i] for i in state.taken],\n",
    "        np.array([False for _ in range(PROBLEM_SIZE)]),\n",
    "    ))\n",
    "\n",
    "def set_covered(state):\n",
    "    return reduce(\n",
    "        np.logical_or,\n",
    "        [SETS[i] for i in state.taken],\n",
    "        np.array([False for _ in range(PROBLEM_SIZE)]),\n",
    "    )\n",
    "\n",
    "def count_missing_sets(state):\n",
    "    free_space= PROBLEM_SIZE- sum(set_covered(state))\n",
    "    return free_space\n",
    "\n",
    "def distance(state):\n",
    "    return PROBLEM_SIZE - sum(\n",
    "        reduce(\n",
    "            np.logical_or,\n",
    "            [SETS[i] for i in state.taken],\n",
    "            np.array([False for _ in range(PROBLEM_SIZE)]),\n",
    "        ))\n",
    "\n",
    "def calculate_centroid(state):\n",
    "    if not state.taken:\n",
    "        return None\n",
    "    dimension = len(state.taken[0])  \n",
    "    centroid = [0] * dimension\n",
    "\n",
    "    for element in state.taken:\n",
    "        for i in range(dimension):\n",
    "            centroid[i] += element[i]\n",
    "\n",
    "    centroid = [coord / len(state.taken) for coord in centroid]\n",
    "    return centroid\n",
    "\n",
    "def euclidean_distance(set1, set2):\n",
    "    if not set1 or not set2:\n",
    "        return float('inf')  \n",
    "\n",
    "    centroid1 = calculate_centroid(set1)\n",
    "    centroid2 = calculate_centroid(set2)\n",
    "    if centroid1 is None or centroid2 is None:\n",
    "        return float('inf')  \n",
    "    squared_distance = sum((c1 - c2) ** 2 for c1, c2 in zip(centroid1, centroid2))\n",
    "    distance = math.sqrt(squared_distance)\n",
    "    return distance\n",
    "\n",
    "def heuristic_max(state):\n",
    "    largest_set= max(sum(s) for s in SETS)\n",
    "    opt_estimate= math.ceil(count_missing_sets(state)/largest_set)\n",
    "    return opt_estimate\n",
    "\n",
    "def heuristic_missing(state):\n",
    "    missing_sets = count_missing_sets(state)\n",
    "    return missing_sets\n",
    "\n",
    "def heuristic_euclidean_distance(state):\n",
    "    total_distance = sum(euclidean_distance(set1, set2) for set1 in state for set2 in state)\n",
    "    return total_distance\n",
    "\n",
    "\n",
    "def heuristic_3(state):\n",
    "    return int(len(state.not_taken)/(len(state.not_taken)*0.3)) + 1 \n",
    "\n",
    "\n",
    "def f(state):\n",
    "    return heuristic_max(state)+ len(state.taken)\n"
   ]
  },
  {
   "cell_type": "code",
   "execution_count": 4,
   "metadata": {},
   "outputs": [],
   "source": [
    "assert goal_check(\n",
    "    State(set(range(NUM_SETS)), set())\n",
    "), \"Problem not solvable\""
   ]
  },
  {
   "cell_type": "code",
   "execution_count": 5,
   "metadata": {},
   "outputs": [
    {
     "name": "stdout",
     "output_type": "stream",
     "text": [
      "Solved in 77 steps (3 tiles)\n"
     ]
    }
   ],
   "source": [
    "frontier = PriorityQueue()\n",
    "#frontier = SimpleQueue()\n",
    "state = State(set(), set(range(NUM_SETS)))\n",
    "frontier.put((distance(state), state))\n",
    "\n",
    "\n",
    "counter = 0\n",
    "_, current_state = frontier.get()\n",
    "while not goal_check(current_state):\n",
    "    counter += 1\n",
    "    for action in current_state[1]:\n",
    "        new_state = State(\n",
    "            current_state.taken ^ {action},\n",
    "            current_state.not_taken ^ {action},\n",
    "        )\n",
    "        frontier.put((f(new_state), new_state))\n",
    "    _, current_state = frontier.get()\n",
    "\n",
    "print(\n",
    "    f\"Solved in {counter:,} steps ({len(current_state.taken)} tiles)\"\n",
    ")"
   ]
  },
  {
   "cell_type": "code",
   "execution_count": 6,
   "metadata": {},
   "outputs": [
    {
     "data": {
      "text/plain": [
       "State(taken={19, 15, 7}, not_taken={0, 1, 2, 3, 4, 5, 6, 8, 9, 10, 11, 12, 13, 14, 16, 17, 18})"
      ]
     },
     "execution_count": 6,
     "metadata": {},
     "output_type": "execute_result"
    }
   ],
   "source": [
    "current_state"
   ]
  },
  {
   "cell_type": "code",
   "execution_count": 7,
   "metadata": {},
   "outputs": [
    {
     "data": {
      "text/plain": [
       "array([False,  True, False, False, False, False,  True, False,  True,\n",
       "        True])"
      ]
     },
     "execution_count": 7,
     "metadata": {},
     "output_type": "execute_result"
    }
   ],
   "source": [
    "SETS[1]"
   ]
  }
 ],
 "metadata": {
  "kernelspec": {
   "display_name": "ci-P-7LqQ3C-py3.11",
   "language": "python",
   "name": "python3"
  },
  "language_info": {
   "codemirror_mode": {
    "name": "ipython",
    "version": 3
   },
   "file_extension": ".py",
   "mimetype": "text/x-python",
   "name": "python",
   "nbconvert_exporter": "python",
   "pygments_lexer": "ipython3",
   "version": "3.11.0"
  }
 },
 "nbformat": 4,
 "nbformat_minor": 2
}
